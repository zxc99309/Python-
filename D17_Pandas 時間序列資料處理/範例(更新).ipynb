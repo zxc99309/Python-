{
 "cells": [
  {
   "cell_type": "markdown",
   "metadata": {
    "id": "a_VmAfWSBJs7"
   },
   "source": [
    "<img width=150 src=\"https://upload.wikimedia.org/wikipedia/commons/thumb/1/1a/NumPy_logo.svg/200px-NumPy_logo.svg.png\"></img>"
   ]
  },
  {
   "cell_type": "markdown",
   "metadata": {
    "id": "28IRuOm8sZPJ"
   },
   "source": [
    "* 範例目標：\n",
    "  1. 實做時間序列資料操作\n",
    "  2. 實做時間上的四則運算與操作\n",
    "* 範例重點：\n",
    "  1. 時間序列的資料非常注重時間的間隔(年、月、日、時、分、秒)\n",
    "  2. 時間也有分不同資料型態，在這邊使用 timestamps 的資料型態，須注意不同資料型態是不可以一起運算的"
   ]
  },
  {
   "cell_type": "code",
   "execution_count": 1,
   "metadata": {
    "id": "cu78CXS6mRpg",
    "scrolled": false
   },
   "outputs": [
    {
     "name": "stdout",
     "output_type": "stream",
     "text": [
      "<module 'numpy' from 'D:\\\\anaconda3\\\\lib\\\\site-packages\\\\numpy\\\\__init__.py'>\n",
      "1.19.2\n",
      "<module 'pandas' from 'D:\\\\anaconda3\\\\lib\\\\site-packages\\\\pandas\\\\__init__.py'>\n",
      "1.1.3\n"
     ]
    }
   ],
   "source": [
    "# 載入 NumPy, Pandas 套件\n",
    "import numpy as np\n",
    "import pandas as pd\n",
    "\n",
    "# 檢查正確載入與版本\n",
    "print(np)\n",
    "print(np.__version__)\n",
    "print(pd)\n",
    "print(pd.__version__)"
   ]
  },
  {
   "cell_type": "markdown",
   "metadata": {},
   "source": [
    "# 【基礎17=進階16】"
   ]
  },
  {
   "cell_type": "markdown",
   "metadata": {},
   "source": [
    "* 因為資料之間是有時間關係的，資料之間的時間距離也不盡相同，例如下表，同樣差一個月，但是相差的天數不同\n",
    "* 時間序列的資料非常注重時間的間隔"
   ]
  },
  {
   "cell_type": "code",
   "execution_count": 2,
   "metadata": {
    "colab": {
     "base_uri": "https://localhost:8080/"
    },
    "executionInfo": {
     "elapsed": 1233,
     "status": "ok",
     "timestamp": 1608476594391,
     "user": {
      "displayName": "献竤黃",
      "photoUrl": "",
      "userId": "07529243043474362942"
     },
     "user_tz": -480
    },
    "id": "1Vg4zaM9fT7B",
    "outputId": "2d288b05-f45f-49d3-bbdf-36334e7289d4"
   },
   "outputs": [
    {
     "data": {
      "text/plain": [
       "2020-01-31   -0.749953\n",
       "2020-02-29   -0.282544\n",
       "2020-03-31   -0.404671\n",
       "2020-04-30   -0.562724\n",
       "2020-05-31   -0.365467\n",
       "2020-06-30   -1.340197\n",
       "2020-07-31    0.441438\n",
       "2020-08-31   -0.188151\n",
       "2020-09-30    0.740305\n",
       "2020-10-31   -1.052646\n",
       "Freq: M, dtype: float64"
      ]
     },
     "execution_count": 2,
     "metadata": {},
     "output_type": "execute_result"
    }
   ],
   "source": [
    "rng = pd.date_range('1/1/2020', periods=10, freq='M')\n",
    "ts = pd.Series(np.random.randn(len(rng)), index=rng)\n",
    "ts"
   ]
  },
  {
   "cell_type": "markdown",
   "metadata": {},
   "source": [
    "* 時間間隔很重要，可以藉由.to_period()控制時間長度，參數freq代表時間頻率(Y：年、M：月、D：日、H：小時)\n",
    "* 更改時間頻率：年"
   ]
  },
  {
   "cell_type": "code",
   "execution_count": 3,
   "metadata": {
    "colab": {
     "base_uri": "https://localhost:8080/"
    },
    "executionInfo": {
     "elapsed": 1197,
     "status": "ok",
     "timestamp": 1608474319997,
     "user": {
      "displayName": "献竤黃",
      "photoUrl": "",
      "userId": "07529243043474362942"
     },
     "user_tz": -480
    },
    "id": "vzSrcmJaikLJ",
    "outputId": "cc2c5432-c573-4018-8aaa-7e55a66e5c24"
   },
   "outputs": [
    {
     "data": {
      "text/plain": [
       "2020   -0.749953\n",
       "2020   -0.282544\n",
       "2020   -0.404671\n",
       "2020   -0.562724\n",
       "2020   -0.365467\n",
       "2020   -1.340197\n",
       "2020    0.441438\n",
       "2020   -0.188151\n",
       "2020    0.740305\n",
       "2020   -1.052646\n",
       "Freq: A-DEC, dtype: float64"
      ]
     },
     "execution_count": 3,
     "metadata": {},
     "output_type": "execute_result"
    }
   ],
   "source": [
    "ts.to_period(freq=\"Y\")"
   ]
  },
  {
   "cell_type": "markdown",
   "metadata": {},
   "source": [
    "* 更改時間頻率：月"
   ]
  },
  {
   "cell_type": "code",
   "execution_count": 4,
   "metadata": {
    "colab": {
     "base_uri": "https://localhost:8080/"
    },
    "executionInfo": {
     "elapsed": 1155,
     "status": "ok",
     "timestamp": 1608474172770,
     "user": {
      "displayName": "献竤黃",
      "photoUrl": "",
      "userId": "07529243043474362942"
     },
     "user_tz": -480
    },
    "id": "GCjWe4w-fVoi",
    "outputId": "822234f9-16ed-43b8-96cf-c2ee81ee265a",
    "scrolled": true
   },
   "outputs": [
    {
     "data": {
      "text/plain": [
       "2020-01   -0.749953\n",
       "2020-02   -0.282544\n",
       "2020-03   -0.404671\n",
       "2020-04   -0.562724\n",
       "2020-05   -0.365467\n",
       "2020-06   -1.340197\n",
       "2020-07    0.441438\n",
       "2020-08   -0.188151\n",
       "2020-09    0.740305\n",
       "2020-10   -1.052646\n",
       "Freq: M, dtype: float64"
      ]
     },
     "execution_count": 4,
     "metadata": {},
     "output_type": "execute_result"
    }
   ],
   "source": [
    "ts.to_period(freq=\"M\")"
   ]
  },
  {
   "cell_type": "markdown",
   "metadata": {},
   "source": [
    "* 更改時間頻率：日"
   ]
  },
  {
   "cell_type": "code",
   "execution_count": 5,
   "metadata": {
    "colab": {
     "base_uri": "https://localhost:8080/"
    },
    "executionInfo": {
     "elapsed": 1115,
     "status": "ok",
     "timestamp": 1608474344535,
     "user": {
      "displayName": "献竤黃",
      "photoUrl": "",
      "userId": "07529243043474362942"
     },
     "user_tz": -480
    },
    "id": "6mLvaWRlhKab",
    "outputId": "b9b618a9-0e63-4e09-d978-e231a4e70e80",
    "scrolled": true
   },
   "outputs": [
    {
     "data": {
      "text/plain": [
       "2020-01-31   -0.749953\n",
       "2020-02-29   -0.282544\n",
       "2020-03-31   -0.404671\n",
       "2020-04-30   -0.562724\n",
       "2020-05-31   -0.365467\n",
       "2020-06-30   -1.340197\n",
       "2020-07-31    0.441438\n",
       "2020-08-31   -0.188151\n",
       "2020-09-30    0.740305\n",
       "2020-10-31   -1.052646\n",
       "Freq: D, dtype: float64"
      ]
     },
     "execution_count": 5,
     "metadata": {},
     "output_type": "execute_result"
    }
   ],
   "source": [
    "ts.to_period(freq=\"D\")"
   ]
  },
  {
   "cell_type": "markdown",
   "metadata": {},
   "source": [
    "* 更改時間頻率:小時"
   ]
  },
  {
   "cell_type": "code",
   "execution_count": 6,
   "metadata": {
    "colab": {
     "base_uri": "https://localhost:8080/"
    },
    "executionInfo": {
     "elapsed": 1171,
     "status": "ok",
     "timestamp": 1608474353654,
     "user": {
      "displayName": "献竤黃",
      "photoUrl": "",
      "userId": "07529243043474362942"
     },
     "user_tz": -480
    },
    "id": "tpPFvWI6irew",
    "outputId": "f781b60e-3943-448d-f753-f4bc70572122",
    "scrolled": false
   },
   "outputs": [
    {
     "data": {
      "text/plain": [
       "2020-01-31 00:00   -0.749953\n",
       "2020-02-29 00:00   -0.282544\n",
       "2020-03-31 00:00   -0.404671\n",
       "2020-04-30 00:00   -0.562724\n",
       "2020-05-31 00:00   -0.365467\n",
       "2020-06-30 00:00   -1.340197\n",
       "2020-07-31 00:00    0.441438\n",
       "2020-08-31 00:00   -0.188151\n",
       "2020-09-30 00:00    0.740305\n",
       "2020-10-31 00:00   -1.052646\n",
       "Freq: H, dtype: float64"
      ]
     },
     "execution_count": 6,
     "metadata": {},
     "output_type": "execute_result"
    }
   ],
   "source": [
    "ts.to_period(freq=\"H\")"
   ]
  },
  {
   "cell_type": "markdown",
   "metadata": {},
   "source": [
    "* 更改時間頻率如果從年轉成季該怎麼做?可以運用 resample 函數將年轉成季，如沒有值的填上 nan。"
   ]
  },
  {
   "cell_type": "code",
   "execution_count": 7,
   "metadata": {
    "colab": {
     "base_uri": "https://localhost:8080/"
    },
    "executionInfo": {
     "elapsed": 1236,
     "status": "ok",
     "timestamp": 1608479860489,
     "user": {
      "displayName": "献竤黃",
      "photoUrl": "",
      "userId": "07529243043474362942"
     },
     "user_tz": -480
    },
    "id": "mMzk1oy93HLN",
    "outputId": "08c88172-06c6-4827-e3d6-5a3d5010a67e",
    "scrolled": true
   },
   "outputs": [
    {
     "data": {
      "text/plain": [
       "2018    1\n",
       "2019    2\n",
       "Freq: A-DEC, dtype: int64"
      ]
     },
     "execution_count": 7,
     "metadata": {},
     "output_type": "execute_result"
    }
   ],
   "source": [
    "s = pd.Series([1, 2], index=pd.period_range('2018-01-01',freq='Y',periods=2))\n",
    "s"
   ]
  },
  {
   "cell_type": "code",
   "execution_count": 8,
   "metadata": {
    "scrolled": true
   },
   "outputs": [
    {
     "data": {
      "text/plain": [
       "2018Q1    1.0\n",
       "2018Q2    NaN\n",
       "2018Q3    NaN\n",
       "2018Q4    NaN\n",
       "2019Q1    2.0\n",
       "2019Q2    NaN\n",
       "2019Q3    NaN\n",
       "2019Q4    NaN\n",
       "Freq: Q-DEC, dtype: float64"
      ]
     },
     "execution_count": 8,
     "metadata": {},
     "output_type": "execute_result"
    }
   ],
   "source": [
    "s.resample('Q', convention='start').asfreq()"
   ]
  },
  {
   "cell_type": "markdown",
   "metadata": {},
   "source": [
    "## 索引的方式\n",
    "* 取出需要的時間點"
   ]
  },
  {
   "cell_type": "code",
   "execution_count": 9,
   "metadata": {
    "colab": {
     "base_uri": "https://localhost:8080/"
    },
    "executionInfo": {
     "elapsed": 1199,
     "status": "ok",
     "timestamp": 1608474707151,
     "user": {
      "displayName": "献竤黃",
      "photoUrl": "",
      "userId": "07529243043474362942"
     },
     "user_tz": -480
    },
    "id": "Wn1cEMR2itsv",
    "outputId": "e5b3adbf-dee5-44fd-edd7-d9d2872b0ba2"
   },
   "outputs": [
    {
     "data": {
      "text/plain": [
       "2020-03-31   -0.404671\n",
       "2020-04-30   -0.562724\n",
       "2020-05-31   -0.365467\n",
       "2020-06-30   -1.340197\n",
       "2020-07-31    0.441438\n",
       "Freq: M, dtype: float64"
      ]
     },
     "execution_count": 9,
     "metadata": {},
     "output_type": "execute_result"
    }
   ],
   "source": [
    "ts['2020-03-31': '2020-07-31']"
   ]
  },
  {
   "cell_type": "markdown",
   "metadata": {},
   "source": [
    "* 以月為單位"
   ]
  },
  {
   "cell_type": "code",
   "execution_count": 10,
   "metadata": {
    "colab": {
     "base_uri": "https://localhost:8080/"
    },
    "executionInfo": {
     "elapsed": 1007,
     "status": "ok",
     "timestamp": 1608475556795,
     "user": {
      "displayName": "献竤黃",
      "photoUrl": "",
      "userId": "07529243043474362942"
     },
     "user_tz": -480
    },
    "id": "7WlL4Pf_jXCz",
    "outputId": "761b2bf9-8f53-4ee5-a41c-e09126a2d05a",
    "scrolled": true
   },
   "outputs": [
    {
     "data": {
      "text/plain": [
       "2020-02-29   -0.282544\n",
       "2020-03-31   -0.404671\n",
       "2020-04-30   -0.562724\n",
       "2020-05-31   -0.365467\n",
       "Freq: M, dtype: float64"
      ]
     },
     "execution_count": 10,
     "metadata": {},
     "output_type": "execute_result"
    }
   ],
   "source": [
    "ts['2020-02': '2020-05']"
   ]
  },
  {
   "cell_type": "markdown",
   "metadata": {},
   "source": [
    "## 移動 (shifting)\n",
    "* 沿著時間軸將資料前移或後移\n",
    "* Series 和 DataFrame 都有一個 .shift() 方法用於執行單純的移動操作"
   ]
  },
  {
   "cell_type": "code",
   "execution_count": 14,
   "metadata": {
    "colab": {
     "base_uri": "https://localhost:8080/"
    },
    "executionInfo": {
     "elapsed": 1260,
     "status": "ok",
     "timestamp": 1608477032662,
     "user": {
      "displayName": "献竤黃",
      "photoUrl": "",
      "userId": "07529243043474362942"
     },
     "user_tz": -480
    },
    "id": "txPtXllRs6w9",
    "outputId": "8aa20b87-f643-4bb1-f7e7-8b965f3eeffe",
    "scrolled": false
   },
   "outputs": [
    {
     "data": {
      "text/plain": [
       "2020-01-31   -1.005002\n",
       "2020-02-29   -0.515248\n",
       "2020-03-31   -0.904410\n",
       "2020-04-30   -0.437373\n",
       "2020-05-31    0.236148\n",
       "2020-06-30    0.822777\n",
       "2020-07-31    1.166426\n",
       "2020-08-31   -0.303415\n",
       "2020-09-30   -0.252626\n",
       "2020-10-31   -0.727255\n",
       "Freq: M, dtype: float64"
      ]
     },
     "execution_count": 14,
     "metadata": {},
     "output_type": "execute_result"
    }
   ],
   "source": [
    "ts"
   ]
  },
  {
   "cell_type": "code",
   "execution_count": 11,
   "metadata": {
    "id": "rj42N4rQ1OpD"
   },
   "outputs": [
    {
     "data": {
      "text/plain": [
       "2020-02-02   -0.749953\n",
       "2020-03-02   -0.282544\n",
       "2020-04-02   -0.404671\n",
       "2020-05-02   -0.562724\n",
       "2020-06-02   -0.365467\n",
       "2020-07-02   -1.340197\n",
       "2020-08-02    0.441438\n",
       "2020-09-02   -0.188151\n",
       "2020-10-02    0.740305\n",
       "2020-11-02   -1.052646\n",
       "dtype: float64"
      ]
     },
     "execution_count": 11,
     "metadata": {},
     "output_type": "execute_result"
    }
   ],
   "source": [
    "ts.shift(2, freq='D')"
   ]
  },
  {
   "cell_type": "markdown",
   "metadata": {},
   "source": [
    "## 分時間資料以及字串差別\n",
    "* 時間需要使用pd.Timestamp()做設定，並不是只使用字串就可以代表時間"
   ]
  },
  {
   "cell_type": "code",
   "execution_count": 9,
   "metadata": {
    "id": "U0nIQ3rlnmcS"
   },
   "outputs": [],
   "source": [
    "str_date = '2020-10-10'\n",
    "date = pd.Timestamp(2020,10,10)"
   ]
  },
  {
   "cell_type": "markdown",
   "metadata": {},
   "source": [
    "* type是字串"
   ]
  },
  {
   "cell_type": "code",
   "execution_count": 10,
   "metadata": {
    "colab": {
     "base_uri": "https://localhost:8080/"
    },
    "executionInfo": {
     "elapsed": 1148,
     "status": "ok",
     "timestamp": 1608476208965,
     "user": {
      "displayName": "献竤黃",
      "photoUrl": "",
      "userId": "07529243043474362942"
     },
     "user_tz": -480
    },
    "id": "laqmu3Y-n-_u",
    "outputId": "aa962b37-9d55-40a9-a486-35e03e50103b"
   },
   "outputs": [
    {
     "data": {
      "text/plain": [
       "('2020-10-10', str)"
      ]
     },
     "execution_count": 10,
     "metadata": {},
     "output_type": "execute_result"
    }
   ],
   "source": [
    "str_date, type(str_date)"
   ]
  },
  {
   "cell_type": "markdown",
   "metadata": {},
   "source": [
    "* type是Timestamp"
   ]
  },
  {
   "cell_type": "code",
   "execution_count": 11,
   "metadata": {
    "colab": {
     "base_uri": "https://localhost:8080/"
    },
    "executionInfo": {
     "elapsed": 1078,
     "status": "ok",
     "timestamp": 1608475754268,
     "user": {
      "displayName": "献竤黃",
      "photoUrl": "",
      "userId": "07529243043474362942"
     },
     "user_tz": -480
    },
    "id": "3XyDLNbjn9fz",
    "outputId": "ac4a7844-f5a6-4c29-b3a6-df3b84628540"
   },
   "outputs": [
    {
     "data": {
      "text/plain": [
       "(Timestamp('2020-10-10 00:00:00'), pandas._libs.tslibs.timestamps.Timestamp)"
      ]
     },
     "execution_count": 11,
     "metadata": {},
     "output_type": "execute_result"
    }
   ],
   "source": [
    "date, type(date)"
   ]
  },
  {
   "cell_type": "markdown",
   "metadata": {},
   "source": [
    "* 時間轉字串"
   ]
  },
  {
   "cell_type": "code",
   "execution_count": 12,
   "metadata": {
    "colab": {
     "base_uri": "https://localhost:8080/"
    },
    "executionInfo": {
     "elapsed": 936,
     "status": "ok",
     "timestamp": 1608476196914,
     "user": {
      "displayName": "献竤黃",
      "photoUrl": "",
      "userId": "07529243043474362942"
     },
     "user_tz": -480
    },
    "id": "l9G-SdP4o7kP",
    "outputId": "6bb96ea9-f8ad-4bb5-c55b-be65a5735e3f"
   },
   "outputs": [
    {
     "data": {
      "text/plain": [
       "('2020-10-10', str)"
      ]
     },
     "execution_count": 12,
     "metadata": {},
     "output_type": "execute_result"
    }
   ],
   "source": [
    "date2str = date.strftime('%Y-%m-%d')\n",
    "date2str, type(date2str)"
   ]
  },
  {
   "cell_type": "markdown",
   "metadata": {},
   "source": [
    "* 字串轉時間"
   ]
  },
  {
   "cell_type": "code",
   "execution_count": 13,
   "metadata": {
    "colab": {
     "base_uri": "https://localhost:8080/"
    },
    "executionInfo": {
     "elapsed": 1155,
     "status": "ok",
     "timestamp": 1608476387946,
     "user": {
      "displayName": "献竤黃",
      "photoUrl": "",
      "userId": "07529243043474362942"
     },
     "user_tz": -480
    },
    "id": "-zU5K_Znp6N3",
    "outputId": "907f864d-ef9f-400b-f145-ba3db55db87a"
   },
   "outputs": [
    {
     "data": {
      "text/plain": [
       "(Timestamp('2020-10-10 00:00:00'), pandas._libs.tslibs.timestamps.Timestamp)"
      ]
     },
     "execution_count": 13,
     "metadata": {},
     "output_type": "execute_result"
    }
   ],
   "source": [
    "str2date = pd.to_datetime(str_date)\n",
    "str2date, type(str2date)"
   ]
  },
  {
   "cell_type": "markdown",
   "metadata": {},
   "source": [
    "## 日期時間處理"
   ]
  },
  {
   "cell_type": "markdown",
   "metadata": {},
   "source": [
    "* 呼叫出年月日：在timestamps後面加上回傳的year, month, day即可"
   ]
  },
  {
   "cell_type": "code",
   "execution_count": null,
   "metadata": {
    "colab": {
     "base_uri": "https://localhost:8080/"
    },
    "executionInfo": {
     "elapsed": 697,
     "status": "ok",
     "timestamp": 1608477302258,
     "user": {
      "displayName": "献竤黃",
      "photoUrl": "",
      "userId": "07529243043474362942"
     },
     "user_tz": -480
    },
    "id": "buHgKrm2rKGE",
    "outputId": "4edf772d-b87b-429f-c688-2ebfcfe9a101"
   },
   "outputs": [
    {
     "data": {
      "text/plain": [
       "(2020, 10, 10)"
      ]
     },
     "execution_count": 71,
     "metadata": {
      "tags": []
     },
     "output_type": "execute_result"
    }
   ],
   "source": [
    "date.year, date.month, date.day"
   ]
  },
  {
   "cell_type": "markdown",
   "metadata": {},
   "source": [
    "* 呼叫星期與周數"
   ]
  },
  {
   "cell_type": "code",
   "execution_count": null,
   "metadata": {
    "colab": {
     "base_uri": "https://localhost:8080/"
    },
    "executionInfo": {
     "elapsed": 1027,
     "status": "ok",
     "timestamp": 1608477832361,
     "user": {
      "displayName": "献竤黃",
      "photoUrl": "",
      "userId": "07529243043474362942"
     },
     "user_tz": -480
    },
    "id": "Y1szocEUubYi",
    "outputId": "6139fe15-f36b-40e6-bbd1-1d1b5d6b83fd"
   },
   "outputs": [
    {
     "data": {
      "text/plain": [
       "('Saturday', 41)"
      ]
     },
     "execution_count": 78,
     "metadata": {
      "tags": []
     },
     "output_type": "execute_result"
    }
   ],
   "source": [
    "date.day_name(), date.weekofyear"
   ]
  },
  {
   "cell_type": "code",
   "execution_count": null,
   "metadata": {
    "id": "4Ad62vUMwbGM"
   },
   "outputs": [],
   "source": [
    "date1 = pd.Timestamp(2020,10,10)\n",
    "date2 = pd.Timestamp(2020,11,10)"
   ]
  },
  {
   "cell_type": "markdown",
   "metadata": {},
   "source": [
    "* Timestamps可以直接加時間或是計算時間差距"
   ]
  },
  {
   "cell_type": "code",
   "execution_count": null,
   "metadata": {
    "colab": {
     "base_uri": "https://localhost:8080/"
    },
    "executionInfo": {
     "elapsed": 1229,
     "status": "ok",
     "timestamp": 1608477986714,
     "user": {
      "displayName": "献竤黃",
      "photoUrl": "",
      "userId": "07529243043474362942"
     },
     "user_tz": -480
    },
    "id": "je1usyHzwhxV",
    "outputId": "ab926a3f-3329-4c43-a147-0963f8f506be"
   },
   "outputs": [
    {
     "data": {
      "text/plain": [
       "Timedelta('31 days 00:00:00')"
      ]
     },
     "execution_count": 80,
     "metadata": {
      "tags": []
     },
     "output_type": "execute_result"
    }
   ],
   "source": [
    "date2 - date1"
   ]
  },
  {
   "cell_type": "code",
   "execution_count": null,
   "metadata": {
    "colab": {
     "base_uri": "https://localhost:8080/"
    },
    "executionInfo": {
     "elapsed": 1703,
     "status": "ok",
     "timestamp": 1608478196213,
     "user": {
      "displayName": "献竤黃",
      "photoUrl": "",
      "userId": "07529243043474362942"
     },
     "user_tz": -480
    },
    "id": "1OY3pZ1_v5pF",
    "outputId": "dcc207ef-fb08-405c-eece-0c2ffc7a8a9d"
   },
   "outputs": [
    {
     "data": {
      "text/plain": [
       "Timestamp('2020-10-11 00:00:00')"
      ]
     },
     "execution_count": 82,
     "metadata": {
      "tags": []
     },
     "output_type": "execute_result"
    }
   ],
   "source": [
    "date1 + pd.Timedelta(days=1)"
   ]
  },
  {
   "cell_type": "markdown",
   "metadata": {},
   "source": [
    "* 可以加工作日天數 two_business_days = 2 * pd.offsets.BDay() 表示工作天"
   ]
  },
  {
   "cell_type": "code",
   "execution_count": null,
   "metadata": {
    "colab": {
     "base_uri": "https://localhost:8080/"
    },
    "executionInfo": {
     "elapsed": 1193,
     "status": "ok",
     "timestamp": 1608478344223,
     "user": {
      "displayName": "献竤黃",
      "photoUrl": "",
      "userId": "07529243043474362942"
     },
     "user_tz": -480
    },
    "id": "xlRA8FHUxn0h",
    "outputId": "a8ac511f-2c15-4cb5-99d0-616d80f49766"
   },
   "outputs": [
    {
     "data": {
      "text/plain": [
       "('Saturday', 'Tuesday')"
      ]
     },
     "execution_count": 85,
     "metadata": {
      "tags": []
     },
     "output_type": "execute_result"
    }
   ],
   "source": [
    "two_business_days = 2 * pd.offsets.BDay()\n",
    "date1_add_two_business_days = date1 + two_business_days\n",
    "date1.day_name(), date1_add_two_business_days.day_name()"
   ]
  },
  {
   "cell_type": "code",
   "execution_count": null,
   "metadata": {},
   "outputs": [],
   "source": []
  },
  {
   "cell_type": "code",
   "execution_count": null,
   "metadata": {},
   "outputs": [],
   "source": []
  }
 ],
 "metadata": {
  "colab": {
   "collapsed_sections": [],
   "name": "範例.ipynb",
   "provenance": []
  },
  "kernelspec": {
   "display_name": "Python 3",
   "language": "python",
   "name": "python3"
  },
  "language_info": {
   "codemirror_mode": {
    "name": "ipython",
    "version": 3
   },
   "file_extension": ".py",
   "mimetype": "text/x-python",
   "name": "python",
   "nbconvert_exporter": "python",
   "pygments_lexer": "ipython3",
   "version": "3.8.3"
  }
 },
 "nbformat": 4,
 "nbformat_minor": 1
}
