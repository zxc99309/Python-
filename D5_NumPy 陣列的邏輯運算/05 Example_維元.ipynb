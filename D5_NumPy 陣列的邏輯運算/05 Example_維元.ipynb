{
 "cells": [
  {
   "cell_type": "markdown",
   "metadata": {
    "id": "6h-WgV39ONYX"
   },
   "source": [
    "# 範例\n",
    "***"
   ]
  },
  {
   "cell_type": "markdown",
   "metadata": {
    "id": "-xhRK_JYONYi"
   },
   "source": [
    "# [教學目標]\n",
    "\n",
    "* 正確的使用 NumPy 中的比較與邏輯運算\n",
    "* 掌握 NumPy 陣列的遮罩特性與使用\n",
    "* 知道 NumPy 陣列與 Python 列表的用法差異\n",
    "\n",
    "\n"
   ]
  },
  {
   "cell_type": "code",
   "execution_count": null,
   "metadata": {
    "id": "VL_zfVEMONYj",
    "outputId": "49130b79-8b5e-49d3-e815-32e7587c630f"
   },
   "outputs": [
    {
     "name": "stdout",
     "output_type": "stream",
     "text": [
      "<module 'numpy' from '/Users/wei/.virtualenvs/py3/lib/python3.6/site-packages/numpy/__init__.py'>\n",
      "1.16.1\n"
     ]
    }
   ],
   "source": [
    "# 載入 NumPy 套件\n",
    "import numpy as np\n",
    "\n",
    "# 檢查正確載入與版本\n",
    "print(np)\n",
    "print(np.__version__)"
   ]
  },
  {
   "cell_type": "code",
   "execution_count": null,
   "metadata": {
    "id": "Im70sam2ONYk",
    "outputId": "472c277c-9530-4739-c551-24e392dc0219"
   },
   "outputs": [
    {
     "name": "stdout",
     "output_type": "stream",
     "text": [
      "[ True  True  True  True]\n",
      "[False False False False]\n",
      "[False False False False]\n",
      "[ True  True  True  True]\n"
     ]
    }
   ],
   "source": [
    "# 陣列中的比較運算\n",
    "\n",
    "a = np.array( [20,30,40,50] )\n",
    "b = np.arange( 4 )\n",
    "\n",
    "print(a > b) # [ True  True  True  True]\n",
    "print(a < b) # [False False False False]\n",
    "print(a == b) # [False False False False]\n",
    "print(a != b) # [ True  True  True  True]\n"
   ]
  },
  {
   "cell_type": "code",
   "execution_count": 1,
   "metadata": {
    "id": "XZCzytfEONYm",
    "outputId": "bacf6610-3efc-41da-82f3-db3a4cbffb0b"
   },
   "outputs": [
    {
     "ename": "ValueError",
     "evalue": "The truth value of an array with more than one element is ambiguous. Use a.any() or a.all()",
     "output_type": "error",
     "traceback": [
      "\u001b[1;31m---------------------------------------------------------------------------\u001b[0m",
      "\u001b[1;31mValueError\u001b[0m                                Traceback (most recent call last)",
      "\u001b[1;32m<ipython-input-1-55f88f2d97bb>\u001b[0m in \u001b[0;36m<module>\u001b[1;34m\u001b[0m\n\u001b[0;32m      6\u001b[0m \u001b[0mb\u001b[0m \u001b[1;33m=\u001b[0m \u001b[0mnp\u001b[0m\u001b[1;33m.\u001b[0m\u001b[0marray\u001b[0m\u001b[1;33m(\u001b[0m \u001b[1;33m[\u001b[0m\u001b[1;32mTrue\u001b[0m\u001b[1;33m,\u001b[0m \u001b[1;32mFalse\u001b[0m\u001b[1;33m,\u001b[0m \u001b[1;32mTrue\u001b[0m\u001b[1;33m,\u001b[0m \u001b[1;32mFalse\u001b[0m\u001b[1;33m]\u001b[0m  \u001b[1;33m)\u001b[0m\u001b[1;33m\u001b[0m\u001b[1;33m\u001b[0m\u001b[0m\n\u001b[0;32m      7\u001b[0m \u001b[1;33m\u001b[0m\u001b[0m\n\u001b[1;32m----> 8\u001b[1;33m \u001b[0mprint\u001b[0m\u001b[1;33m(\u001b[0m\u001b[0ma\u001b[0m \u001b[1;32mand\u001b[0m \u001b[0mb\u001b[0m\u001b[1;33m)\u001b[0m\u001b[1;33m\u001b[0m\u001b[1;33m\u001b[0m\u001b[0m\n\u001b[0m",
      "\u001b[1;31mValueError\u001b[0m: The truth value of an array with more than one element is ambiguous. Use a.any() or a.all()"
     ]
    }
   ],
   "source": [
    "# 陣列中的邏輯運算\n",
    "\n",
    "import numpy as np\n",
    "\n",
    "a = np.array( [True, True, False, False] )\n",
    "b = np.array( [True, False, True, False]  )\n",
    "\n",
    "print(a and b)\n"
   ]
  },
  {
   "cell_type": "code",
   "execution_count": null,
   "metadata": {
    "id": "njBQ8_IkONYm",
    "outputId": "8b16df59-4ffb-47f6-b068-44d2424a6c34"
   },
   "outputs": [
    {
     "name": "stdout",
     "output_type": "stream",
     "text": [
      "[ True False False False]\n",
      "[ True  True  True False]\n"
     ]
    }
   ],
   "source": [
    "a = np.array( [True, True, False, False] )\n",
    "b = np.array( [True, False, True, False]  )\n",
    "\n",
    "print(a & b) # [ True False False False]\n",
    "print(a | b) # [ True  True  True False]\n"
   ]
  },
  {
   "cell_type": "code",
   "execution_count": null,
   "metadata": {
    "id": "tqn-DyLgONYn",
    "outputId": "ec1358c2-487f-428c-c90c-55d4f0da98e1"
   },
   "outputs": [
    {
     "name": "stdout",
     "output_type": "stream",
     "text": [
      "[10 20 30 40]\n",
      "[10 30]\n",
      "[]\n"
     ]
    }
   ],
   "source": [
    "# 利用布林值作為篩選的條件：遮罩\n",
    "\n",
    "import numpy as np\n",
    "\n",
    "a = np.array( [10, 20, 30, 40] )\n",
    "\n",
    "print(a[ [True, True, True, True] ])\n",
    "print(a[ [True, False, True, False] ])\n",
    "print(a[ [False, False, False, False] ])\n"
   ]
  },
  {
   "cell_type": "code",
   "execution_count": null,
   "metadata": {
    "id": "M3sDHwaKONYo",
    "outputId": "9335c6d5-c870-4a45-cf76-082f5741490e"
   },
   "outputs": [
    {
     "name": "stdout",
     "output_type": "stream",
     "text": [
      "[False False  True  True]\n",
      "[30 40]\n",
      "[30 40]\n"
     ]
    }
   ],
   "source": [
    "# 從比較/邏輯運算到遮罩特性\n",
    "\n",
    "import numpy as np\n",
    "\n",
    "a = np.array( [10, 20, 30, 40] )\n",
    "\n",
    "print(a > 20)\n",
    "print(a[ [False, False, True, True] ])\n",
    "print(a[ a > 20 ])\n"
   ]
  },
  {
   "cell_type": "code",
   "execution_count": null,
   "metadata": {
    "id": "WwvZYavxONYo",
    "outputId": "3169ccc4-b55f-4fb2-c1d4-cc2f2731a75f"
   },
   "outputs": [
    {
     "name": "stdout",
     "output_type": "stream",
     "text": [
      "[2 3]\n",
      "[2, 3]\n"
     ]
    }
   ],
   "source": [
    "# 遮罩特性背後的強大之處\n",
    "\n",
    "a = np.arange( 4 )\n",
    "print(a[a > 1])\n",
    "\n",
    "a = np.arange( 4 )\n",
    "b = []\n",
    "for i in a:\n",
    "    if i > 1:\n",
    "        b.append(i)\n",
    "print(b)\n"
   ]
  },
  {
   "cell_type": "code",
   "execution_count": null,
   "metadata": {
    "id": "XGHltEQAONYp",
    "outputId": "7253b646-43d8-46b1-ea02-3b44ee0c2bf0"
   },
   "outputs": [
    {
     "name": "stdout",
     "output_type": "stream",
     "text": [
      "True\n",
      "True\n",
      "False\n"
     ]
    }
   ],
   "source": [
    "# 補充：any() 和 all()\n",
    "\n",
    "print(np.any([True, True, True]))\n",
    "print(np.any([True, False, False]))\n",
    "print(np.any([False, False, False]))\n"
   ]
  },
  {
   "cell_type": "code",
   "execution_count": null,
   "metadata": {
    "id": "HndORgTxONYp",
    "outputId": "3a8cb8e4-2a90-44c3-935e-38644a1a95a5"
   },
   "outputs": [
    {
     "name": "stdout",
     "output_type": "stream",
     "text": [
      "True\n",
      "False\n",
      "False\n"
     ]
    }
   ],
   "source": [
    "\n",
    "print(np.all([True, True, True]))\n",
    "print(np.all([True, False, False]))\n",
    "print(np.all([False, False, False]))\n"
   ]
  },
  {
   "cell_type": "code",
   "execution_count": null,
   "metadata": {
    "id": "43Ocf4qyONYq"
   },
   "outputs": [],
   "source": []
  }
 ],
 "metadata": {
  "colab": {
   "name": "05 Example.ipynb",
   "provenance": []
  },
  "kernelspec": {
   "display_name": "Python 3",
   "language": "python",
   "name": "python3"
  },
  "language_info": {
   "codemirror_mode": {
    "name": "ipython",
    "version": 3
   },
   "file_extension": ".py",
   "mimetype": "text/x-python",
   "name": "python",
   "nbconvert_exporter": "python",
   "pygments_lexer": "ipython3",
   "version": "3.8.3"
  }
 },
 "nbformat": 4,
 "nbformat_minor": 1
}
