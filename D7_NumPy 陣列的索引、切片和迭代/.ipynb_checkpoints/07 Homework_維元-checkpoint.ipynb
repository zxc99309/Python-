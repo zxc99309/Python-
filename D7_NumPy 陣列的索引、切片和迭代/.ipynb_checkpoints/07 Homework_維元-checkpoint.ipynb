{
 "cells": [
  {
   "cell_type": "markdown",
   "metadata": {
    "colab_type": "text",
    "id": "P6xk2_jLsvFF"
   },
   "source": [
    "# [作業目標]\n",
    "\n",
    "1. 請比較對一個 100 x 100 * 100 的陣列，使用不同方法對每一個元素 +1 的時間比較。\n",
    "\n",
    "2. 如何從一個陣列中，找出出現頻率最高的數值與位置？\n",
    "\n",
    "3. 如何利用 list(...) 實現 a.tolist() 的效果？試著用程式實作。\n"
   ]
  },
  {
   "cell_type": "markdown",
   "metadata": {
    "colab_type": "text",
    "id": "uXGll28asvFS"
   },
   "source": [
    "# 作業 "
   ]
  },
  {
   "cell_type": "markdown",
   "metadata": {},
   "source": [
    "### 1. 請比較對一個 1000 x 100 x 100 的陣列，使用不同方法對每一個元素 +1 的時間比較。\n",
    "\n",
    "\n"
   ]
  },
  {
   "cell_type": "code",
   "execution_count": 40,
   "metadata": {},
   "outputs": [],
   "source": [
    "# 記得先 Import 正確的套件\n",
    "\n",
    "'''\n",
    "Your Code\n",
    "'''\n",
    "import numpy as np"
   ]
  },
  {
   "cell_type": "code",
   "execution_count": 41,
   "metadata": {
    "colab": {},
    "colab_type": "code",
    "id": "5QrYoyNWsvFS"
   },
   "outputs": [],
   "source": [
    "Z = np.random.randint(0, 10, 1000000).reshape(100, 100, 100)"
   ]
  },
  {
   "cell_type": "code",
   "execution_count": 42,
   "metadata": {},
   "outputs": [
    {
     "name": "stdout",
     "output_type": "stream",
     "text": [
      "42.9 ns ± 11.6 ns per loop (mean ± std. dev. of 7 runs, 10 loops each)\n"
     ]
    },
    {
     "data": {
      "text/plain": [
       "array([[[ 1,  9,  4, ..., 10, 10,  2],\n",
       "        [ 1,  3,  2, ...,  8,  1,  7],\n",
       "        [ 8, 10,  4, ...,  7,  4, 10],\n",
       "        ...,\n",
       "        [ 4,  1,  2, ...,  9,  5,  5],\n",
       "        [ 8,  3,  7, ...,  4,  5,  8],\n",
       "        [ 5,  8,  3, ...,  1,  7, 10]],\n",
       "\n",
       "       [[ 4,  1,  7, ...,  5,  7,  4],\n",
       "        [ 7,  5,  9, ...,  6,  5,  7],\n",
       "        [ 7,  6,  4, ...,  3,  3, 10],\n",
       "        ...,\n",
       "        [10,  2,  9, ...,  6,  2,  6],\n",
       "        [ 6,  4,  2, ...,  2,  8,  4],\n",
       "        [ 1,  4,  4, ...,  9,  4,  4]],\n",
       "\n",
       "       [[ 8,  7,  8, ...,  1,  9,  5],\n",
       "        [ 9,  1,  5, ...,  8,  4,  4],\n",
       "        [ 9,  2,  8, ...,  2,  5,  8],\n",
       "        ...,\n",
       "        [ 8,  4,  6, ...,  8,  2,  6],\n",
       "        [ 5,  4,  8, ...,  8,  4, 10],\n",
       "        [ 2,  9,  5, ...,  9,  6,  1]],\n",
       "\n",
       "       ...,\n",
       "\n",
       "       [[ 1,  1,  8, ...,  3,  4,  2],\n",
       "        [10, 10, 10, ...,  6,  2,  9],\n",
       "        [ 1,  4,  2, ...,  8, 10,  6],\n",
       "        ...,\n",
       "        [10,  7,  6, ...,  8,  2, 10],\n",
       "        [ 3,  8, 10, ..., 10,  8,  9],\n",
       "        [ 9,  1,  2, ...,  3,  7,  1]],\n",
       "\n",
       "       [[ 3,  3, 10, ...,  5,  7,  5],\n",
       "        [ 7,  1,  9, ...,  7,  7,  4],\n",
       "        [ 1,  5,  8, ...,  1,  5,  3],\n",
       "        ...,\n",
       "        [ 1,  2,  1, ..., 10,  7,  9],\n",
       "        [10,  5,  9, ...,  7,  8,  5],\n",
       "        [ 6,  2,  3, ...,  6,  1,  5]],\n",
       "\n",
       "       [[ 6,  8,  5, ...,  7,  3,  3],\n",
       "        [ 1,  5,  3, ...,  5,  8,  1],\n",
       "        [ 5,  2,  1, ...,  7,  9,  4],\n",
       "        ...,\n",
       "        [ 1,  4, 10, ...,  6,  8,  1],\n",
       "        [ 3, 10,  4, ..., 10, 10, 10],\n",
       "        [ 5,  1,  2, ...,  9, 10,  6]]])"
      ]
     },
     "execution_count": 42,
     "metadata": {},
     "output_type": "execute_result"
    }
   ],
   "source": [
    "%timeit -n 10 a = 2\n",
    "\n",
    "'''\n",
    "Your Code\n",
    "'''\n",
    "Z+1"
   ]
  },
  {
   "cell_type": "code",
   "execution_count": 43,
   "metadata": {},
   "outputs": [
    {
     "name": "stdout",
     "output_type": "stream",
     "text": [
      "41.4 ns ± 12.5 ns per loop (mean ± std. dev. of 7 runs, 10 loops each)\n"
     ]
    }
   ],
   "source": [
    "%timeit -n 10 a = 2\n",
    "\n",
    "'''\n",
    "Your Code\n",
    "'''\n",
    "for i in range(100):\n",
    "    for j in range(100):\n",
    "        for k in range(100):\n",
    "            Z[i][j][k] += 1"
   ]
  },
  {
   "cell_type": "code",
   "execution_count": 45,
   "metadata": {},
   "outputs": [
    {
     "name": "stdout",
     "output_type": "stream",
     "text": [
      "40 ns ± 9.26 ns per loop (mean ± std. dev. of 7 runs, 10 loops each)\n"
     ]
    }
   ],
   "source": [
    "%timeit -n 10 a = 2\n",
    "\n",
    "'''\n",
    "Your Code\n",
    "'''\n",
    "Z[:, :, :] += 1"
   ]
  },
  {
   "cell_type": "markdown",
   "metadata": {},
   "source": [
    "### 2. 如何從一個陣列中，找出出現頻率最高的數值與位置？\n"
   ]
  },
  {
   "cell_type": "code",
   "execution_count": 30,
   "metadata": {
    "colab": {},
    "colab_type": "code",
    "id": "e1gVI0tvsvFY"
   },
   "outputs": [
    {
     "name": "stdout",
     "output_type": "stream",
     "text": [
      "[8 1 5 7 7 2 9 7 5 9 3 8 4 0 8 2 7 7 4 1 4 5 2 2 7 8 2 5 8 2 7 5 0 9 0 2 2\n",
      " 2 8 4 5 4 8 3 3 6 5 3 6 1]\n"
     ]
    }
   ],
   "source": [
    "\n",
    "Z = np.random.randint(0,10,50)\n",
    "print(Z)\n"
   ]
  },
  {
   "cell_type": "code",
   "execution_count": 32,
   "metadata": {},
   "outputs": [
    {
     "data": {
      "text/plain": [
       "2"
      ]
     },
     "execution_count": 32,
     "metadata": {},
     "output_type": "execute_result"
    }
   ],
   "source": [
    "'''\n",
    "Your Code\n",
    "'''\n",
    "counts = np.bincount(Z)\n",
    "#返回眾數\n",
    "np.argmax(counts)"
   ]
  },
  {
   "cell_type": "code",
   "execution_count": 33,
   "metadata": {},
   "outputs": [
    {
     "data": {
      "text/plain": [
       "(array([ 5, 15, 22, 23, 26, 29, 35, 36, 37], dtype=int64),)"
      ]
     },
     "execution_count": 33,
     "metadata": {},
     "output_type": "execute_result"
    }
   ],
   "source": [
    "'''\n",
    "Your Code\n",
    "'''\n",
    "np.where(Z==2)"
   ]
  },
  {
   "cell_type": "markdown",
   "metadata": {},
   "source": [
    "### 3. 如何利用 list(...) 實現 a.tolist() 的效果？試著用程式實作。\n"
   ]
  },
  {
   "cell_type": "code",
   "execution_count": 34,
   "metadata": {},
   "outputs": [
    {
     "name": "stdout",
     "output_type": "stream",
     "text": [
      "[0, 4, 4, 9, 3, 8]\n",
      "[0, 4, 4, 9, 3, 8]\n",
      "[[3, 3, 3, 0], [6, 4, 5, 2], [1, 6, 2, 3]]\n",
      "[array([3, 3, 3, 0]), array([6, 4, 5, 2]), array([1, 6, 2, 3])]\n",
      "[[[1, 7], [7, 4], [9, 2]], [[2, 8], [8, 6], [8, 6]]]\n",
      "[array([[1, 7],\n",
      "       [7, 4],\n",
      "       [9, 2]]), array([[2, 8],\n",
      "       [8, 6],\n",
      "       [8, 6]])]\n"
     ]
    }
   ],
   "source": [
    "a = np.random.randint(10, size=6) \n",
    "\n",
    "print(a.tolist())\n",
    "print(list(a))\n",
    "\n",
    "\n",
    "b = np.random.randint(10, size=(3,4)) \n",
    "\n",
    "print(b.tolist())\n",
    "print(list(b))\n",
    "\n",
    "\n",
    "c = np.random.randint(10, size=(2,3,2)) \n",
    "\n",
    "print(c.tolist())\n",
    "print(list(c))\n"
   ]
  },
  {
   "cell_type": "code",
   "execution_count": null,
   "metadata": {},
   "outputs": [],
   "source": [
    "'''\n",
    "Your Code\n",
    "'''"
   ]
  }
 ],
 "metadata": {
  "colab": {
   "name": "Day_023_HW.ipynb",
   "provenance": []
  },
  "kernelspec": {
   "display_name": "Python 3",
   "language": "python",
   "name": "python3"
  },
  "language_info": {
   "codemirror_mode": {
    "name": "ipython",
    "version": 3
   },
   "file_extension": ".py",
   "mimetype": "text/x-python",
   "name": "python",
   "nbconvert_exporter": "python",
   "pygments_lexer": "ipython3",
   "version": "3.8.3"
  }
 },
 "nbformat": 4,
 "nbformat_minor": 1
}
